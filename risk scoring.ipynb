{
 "cells": [
  {
   "cell_type": "markdown",
   "metadata": {},
   "source": [
    "# Data Cleaning"
   ]
  },
  {
   "cell_type": "markdown",
   "metadata": {},
   "source": [
    "### Import all of the applicable librarys"
   ]
  },
  {
   "cell_type": "code",
   "execution_count": 1,
   "metadata": {},
   "outputs": [],
   "source": [
    "import pandas as pd\n",
    "import numpy as np\n",
    "import datetime as dt"
   ]
  },
  {
   "cell_type": "markdown",
   "metadata": {},
   "source": [
    "### Combine all of the dataset, this step can be condensed if our system can download the full dataset"
   ]
  },
  {
   "cell_type": "code",
   "execution_count": 2,
   "metadata": {},
   "outputs": [],
   "source": [
    "a= pd.read_csv('aug01tojan01.csv')\n",
    "b = pd.read_csv('jan02tomar01.csv')\n",
    "c = pd.read_csv('mar02toapr01.csv')\n",
    "d = pd.read_csv('apr02toapr30.csv')\n",
    "present = pd.read_csv('may01tomay18.csv')\n",
    "dfcd1 = pd.concat([a,b,c,d],axis=0)"
   ]
  },
  {
   "cell_type": "code",
   "execution_count": 3,
   "metadata": {},
   "outputs": [],
   "source": [
    "dfcd1['Date'] =pd.to_datetime(dfcd1.Date)\n",
    "dfcd1=dfcd1.sort_values(by='Date')"
   ]
  },
  {
   "cell_type": "code",
   "execution_count": 4,
   "metadata": {},
   "outputs": [],
   "source": [
    "dfcd1.to_csv('comaug01_april30.csv')"
   ]
  },
  {
   "cell_type": "code",
   "execution_count": 5,
   "metadata": {},
   "outputs": [],
   "source": [
    "dfcd2 = pd.concat([dfcd1,present],axis=0)"
   ]
  },
  {
   "cell_type": "code",
   "execution_count": 6,
   "metadata": {},
   "outputs": [],
   "source": [
    "dfcd2['Date'] =pd.to_datetime(dfcd2.Date)\n",
    "dfcd2=dfcd2.sort_values(by='Date')"
   ]
  },
  {
   "cell_type": "code",
   "execution_count": 7,
   "metadata": {},
   "outputs": [],
   "source": [
    "df=dfcd2.copy()"
   ]
  },
  {
   "cell_type": "code",
   "execution_count": 8,
   "metadata": {},
   "outputs": [
    {
     "data": {
      "text/html": [
       "<div>\n",
       "<style scoped>\n",
       "    .dataframe tbody tr th:only-of-type {\n",
       "        vertical-align: middle;\n",
       "    }\n",
       "\n",
       "    .dataframe tbody tr th {\n",
       "        vertical-align: top;\n",
       "    }\n",
       "\n",
       "    .dataframe thead th {\n",
       "        text-align: right;\n",
       "    }\n",
       "</style>\n",
       "<table border=\"1\" class=\"dataframe\">\n",
       "  <thead>\n",
       "    <tr style=\"text-align: right;\">\n",
       "      <th></th>\n",
       "      <th>Transaction Id</th>\n",
       "      <th>Reference Number</th>\n",
       "      <th>Receiving Status</th>\n",
       "      <th>Source Transaction</th>\n",
       "      <th>Date</th>\n",
       "      <th>Time</th>\n",
       "      <th>Status</th>\n",
       "      <th>Merchant Id</th>\n",
       "      <th>Merchant Name</th>\n",
       "      <th>Partner Id</th>\n",
       "      <th>...</th>\n",
       "      <th>Tip Amount</th>\n",
       "      <th>Location</th>\n",
       "      <th>Point Of Sale</th>\n",
       "      <th>Clerk User Id</th>\n",
       "      <th>Clerk External Id</th>\n",
       "      <th>Clerk First Name</th>\n",
       "      <th>Clerk Last Name</th>\n",
       "      <th>Customer User Id</th>\n",
       "      <th>Customer Email Address</th>\n",
       "      <th>Customer Phone Number</th>\n",
       "    </tr>\n",
       "  </thead>\n",
       "  <tbody>\n",
       "    <tr>\n",
       "      <th>17</th>\n",
       "      <td>14490</td>\n",
       "      <td>NaN</td>\n",
       "      <td>Not Set</td>\n",
       "      <td>-1</td>\n",
       "      <td>2020-05-18</td>\n",
       "      <td>16:00:30</td>\n",
       "      <td>Approved</td>\n",
       "      <td>3702</td>\n",
       "      <td>Grass Roots, Inc.</td>\n",
       "      <td>0</td>\n",
       "      <td>...</td>\n",
       "      <td>0.0</td>\n",
       "      <td>Grass Roots</td>\n",
       "      <td>Delivery</td>\n",
       "      <td>4956</td>\n",
       "      <td>NaN</td>\n",
       "      <td>Paul</td>\n",
       "      <td>Prusiensky</td>\n",
       "      <td>12972</td>\n",
       "      <td>leveailmyles@gmail.com</td>\n",
       "      <td>6263530441</td>\n",
       "    </tr>\n",
       "    <tr>\n",
       "      <th>16</th>\n",
       "      <td>14491</td>\n",
       "      <td>NaN</td>\n",
       "      <td>Not Set</td>\n",
       "      <td>-1</td>\n",
       "      <td>2020-05-18</td>\n",
       "      <td>16:00:49</td>\n",
       "      <td>Approved</td>\n",
       "      <td>2429</td>\n",
       "      <td>Earth's Healing North</td>\n",
       "      <td>2275</td>\n",
       "      <td>...</td>\n",
       "      <td>0.0</td>\n",
       "      <td>Earth's Healing North</td>\n",
       "      <td>POS 1</td>\n",
       "      <td>3824</td>\n",
       "      <td>NaN</td>\n",
       "      <td>Marquan</td>\n",
       "      <td>Graham</td>\n",
       "      <td>8848</td>\n",
       "      <td>daniel013117@gmail.com</td>\n",
       "      <td>5204998933</td>\n",
       "    </tr>\n",
       "    <tr>\n",
       "      <th>15</th>\n",
       "      <td>14492</td>\n",
       "      <td>NaN</td>\n",
       "      <td>Not Set</td>\n",
       "      <td>-1</td>\n",
       "      <td>2020-05-18</td>\n",
       "      <td>16:03:28</td>\n",
       "      <td>Approved</td>\n",
       "      <td>2429</td>\n",
       "      <td>Earth's Healing North</td>\n",
       "      <td>2275</td>\n",
       "      <td>...</td>\n",
       "      <td>0.0</td>\n",
       "      <td>Earth's Healing North</td>\n",
       "      <td>POS 1</td>\n",
       "      <td>3824</td>\n",
       "      <td>NaN</td>\n",
       "      <td>Marquan</td>\n",
       "      <td>Graham</td>\n",
       "      <td>3874</td>\n",
       "      <td>jaygraves39@gmail.com</td>\n",
       "      <td>5202588768</td>\n",
       "    </tr>\n",
       "    <tr>\n",
       "      <th>13</th>\n",
       "      <td>14494</td>\n",
       "      <td>NaN</td>\n",
       "      <td>Not Set</td>\n",
       "      <td>-1</td>\n",
       "      <td>2020-05-18</td>\n",
       "      <td>16:09:12</td>\n",
       "      <td>Approved</td>\n",
       "      <td>2430</td>\n",
       "      <td>Earths Healing South</td>\n",
       "      <td>2275</td>\n",
       "      <td>...</td>\n",
       "      <td>0.0</td>\n",
       "      <td>Earth's Healing South</td>\n",
       "      <td>POS 1</td>\n",
       "      <td>3797</td>\n",
       "      <td>NaN</td>\n",
       "      <td>Nate</td>\n",
       "      <td>Haskins</td>\n",
       "      <td>9499</td>\n",
       "      <td>cmorales816@outlook.com</td>\n",
       "      <td>5203607389</td>\n",
       "    </tr>\n",
       "    <tr>\n",
       "      <th>80</th>\n",
       "      <td>14427</td>\n",
       "      <td>NaN</td>\n",
       "      <td>Not Set</td>\n",
       "      <td>-1</td>\n",
       "      <td>2020-05-18</td>\n",
       "      <td>12:43:06</td>\n",
       "      <td>Approved</td>\n",
       "      <td>3702</td>\n",
       "      <td>Grass Roots, Inc.</td>\n",
       "      <td>0</td>\n",
       "      <td>...</td>\n",
       "      <td>0.0</td>\n",
       "      <td>Grass Roots</td>\n",
       "      <td>Delivery</td>\n",
       "      <td>4956</td>\n",
       "      <td>NaN</td>\n",
       "      <td>Paul</td>\n",
       "      <td>Prusiensky</td>\n",
       "      <td>8838</td>\n",
       "      <td>emcarlson2@usfca.edu</td>\n",
       "      <td>3039052191</td>\n",
       "    </tr>\n",
       "  </tbody>\n",
       "</table>\n",
       "<p>5 rows × 24 columns</p>\n",
       "</div>"
      ],
      "text/plain": [
       "    Transaction Id Reference Number Receiving Status  Source Transaction  \\\n",
       "17           14490              NaN          Not Set                  -1   \n",
       "16           14491              NaN          Not Set                  -1   \n",
       "15           14492              NaN          Not Set                  -1   \n",
       "13           14494              NaN          Not Set                  -1   \n",
       "80           14427              NaN          Not Set                  -1   \n",
       "\n",
       "         Date      Time    Status  Merchant Id          Merchant Name  \\\n",
       "17 2020-05-18  16:00:30  Approved         3702      Grass Roots, Inc.   \n",
       "16 2020-05-18  16:00:49  Approved         2429  Earth's Healing North   \n",
       "15 2020-05-18  16:03:28  Approved         2429  Earth's Healing North   \n",
       "13 2020-05-18  16:09:12  Approved         2430   Earths Healing South   \n",
       "80 2020-05-18  12:43:06  Approved         3702      Grass Roots, Inc.   \n",
       "\n",
       "    Partner Id  ... Tip Amount               Location  Point Of Sale  \\\n",
       "17           0  ...        0.0            Grass Roots       Delivery   \n",
       "16        2275  ...        0.0  Earth's Healing North          POS 1   \n",
       "15        2275  ...        0.0  Earth's Healing North          POS 1   \n",
       "13        2275  ...        0.0  Earth's Healing South          POS 1   \n",
       "80           0  ...        0.0            Grass Roots       Delivery   \n",
       "\n",
       "    Clerk User Id  Clerk External Id Clerk First Name Clerk Last Name  \\\n",
       "17           4956                NaN             Paul      Prusiensky   \n",
       "16           3824                NaN          Marquan          Graham   \n",
       "15           3824                NaN          Marquan          Graham   \n",
       "13           3797                NaN             Nate         Haskins   \n",
       "80           4956                NaN             Paul      Prusiensky   \n",
       "\n",
       "    Customer User Id   Customer Email Address Customer Phone Number  \n",
       "17             12972   leveailmyles@gmail.com            6263530441  \n",
       "16              8848   daniel013117@gmail.com            5204998933  \n",
       "15              3874    jaygraves39@gmail.com            5202588768  \n",
       "13              9499  cmorales816@outlook.com            5203607389  \n",
       "80              8838     emcarlson2@usfca.edu            3039052191  \n",
       "\n",
       "[5 rows x 24 columns]"
      ]
     },
     "execution_count": 8,
     "metadata": {},
     "output_type": "execute_result"
    }
   ],
   "source": [
    "df.tail()"
   ]
  },
  {
   "cell_type": "code",
   "execution_count": 9,
   "metadata": {},
   "outputs": [
    {
     "data": {
      "text/plain": [
       "Index(['Transaction Id', 'Reference Number', 'Receiving Status',\n",
       "       'Source Transaction', 'Date', 'Time', 'Status', 'Merchant Id',\n",
       "       'Merchant Name', 'Partner Id', 'Partner Name',\n",
       "       'Total Amount (Including Tip)', 'Fees', 'Net Amount (Including Tip)',\n",
       "       'Tip Amount', 'Location', 'Point Of Sale', 'Clerk User Id',\n",
       "       'Clerk External Id', 'Clerk First Name', 'Clerk Last Name',\n",
       "       'Customer User Id', 'Customer Email Address', 'Customer Phone Number'],\n",
       "      dtype='object')"
      ]
     },
     "execution_count": 9,
     "metadata": {},
     "output_type": "execute_result"
    }
   ],
   "source": [
    "df.columns"
   ]
  },
  {
   "cell_type": "markdown",
   "metadata": {},
   "source": [
    "### Drop all non-applicable records"
   ]
  },
  {
   "cell_type": "code",
   "execution_count": 10,
   "metadata": {},
   "outputs": [],
   "source": [
    "#in case there are duplicated transations when combining \n",
    "df=df.drop_duplicates(subset='Transaction Id')"
   ]
  },
  {
   "cell_type": "code",
   "execution_count": 11,
   "metadata": {},
   "outputs": [],
   "source": [
    "#drop all alt36 emails\n",
    "df=df[~df['Customer Email Address'].str.match('^[A-Za-z0-9._%+-]+@alt36.com$')]"
   ]
  },
  {
   "cell_type": "code",
   "execution_count": 12,
   "metadata": {},
   "outputs": [],
   "source": [
    "#only keep the approved transaction\n",
    "df=df[df['Status']=='Approved']"
   ]
  },
  {
   "cell_type": "code",
   "execution_count": 13,
   "metadata": {},
   "outputs": [],
   "source": [
    "#only keep the transactions larger than $10\n",
    "df=df[df['Total Amount (Including Tip)']>=10]"
   ]
  },
  {
   "cell_type": "markdown",
   "metadata": {},
   "source": [
    "# Data wrangling"
   ]
  },
  {
   "cell_type": "markdown",
   "metadata": {},
   "source": [
    "### Calculate each customer's total number of transactions "
   ]
  },
  {
   "cell_type": "code",
   "execution_count": 14,
   "metadata": {},
   "outputs": [],
   "source": [
    "df['Total_Transaction_count']=df.groupby('Customer Email Address')['Customer Email Address'].transform('size')"
   ]
  },
  {
   "cell_type": "markdown",
   "metadata": {},
   "source": [
    "### Calculate each customer's total dollar amount of transactions"
   ]
  },
  {
   "cell_type": "code",
   "execution_count": 15,
   "metadata": {},
   "outputs": [],
   "source": [
    "total = df[['Customer Email Address','Net Amount (Including Tip)']]\n",
    "total=total.groupby(['Customer Email Address']).sum().reset_index()\n",
    "total.columns=['Customer Email Address','Total_Transaction_amount']\n",
    "df=df.merge(total,on='Customer Email Address',how='left')"
   ]
  },
  {
   "cell_type": "markdown",
   "metadata": {},
   "source": [
    "### Extract each customer's last transaction date & calculate \"Recency\""
   ]
  },
  {
   "cell_type": "code",
   "execution_count": 16,
   "metadata": {},
   "outputs": [],
   "source": [
    "max_purchase = df.groupby('Customer User Id').Date.max().reset_index()\n",
    "max_purchase.columns=['Customer User Id','MaxPurchaseDate']\n",
    "max_purchase['MaxPurchaseDate']=pd.to_datetime(max_purchase['MaxPurchaseDate'])"
   ]
  },
  {
   "cell_type": "code",
   "execution_count": 17,
   "metadata": {},
   "outputs": [],
   "source": [
    "df['Date'] = pd.to_datetime(df['Date'])\n",
    "Max_date = df['Date'].max()"
   ]
  },
  {
   "cell_type": "code",
   "execution_count": 18,
   "metadata": {},
   "outputs": [],
   "source": [
    "max_purchase['Recency']=(Max_date - max_purchase['MaxPurchaseDate'])\n",
    "max_purchase['Recency']=max_purchase['Recency'].astype('timedelta64[D]')"
   ]
  },
  {
   "cell_type": "code",
   "execution_count": 19,
   "metadata": {},
   "outputs": [],
   "source": [
    "df=df.merge(max_purchase,on='Customer User Id',how='left')"
   ]
  },
  {
   "cell_type": "code",
   "execution_count": 20,
   "metadata": {},
   "outputs": [],
   "source": [
    "df=df.drop_duplicates(subset='Customer User Id')"
   ]
  },
  {
   "cell_type": "markdown",
   "metadata": {},
   "source": [
    "### Calcualte \"Frequency\" & \"Monetary\""
   ]
  },
  {
   "cell_type": "code",
   "execution_count": 21,
   "metadata": {},
   "outputs": [],
   "source": [
    "rfm=df[['Customer User Id','Total_Transaction_count','Total_Transaction_amount','Recency']]"
   ]
  },
  {
   "cell_type": "code",
   "execution_count": 22,
   "metadata": {},
   "outputs": [
    {
     "name": "stderr",
     "output_type": "stream",
     "text": [
      "/Users/shellydu/opt/anaconda3/lib/python3.7/site-packages/ipykernel_launcher.py:1: SettingWithCopyWarning: \n",
      "A value is trying to be set on a copy of a slice from a DataFrame.\n",
      "Try using .loc[row_indexer,col_indexer] = value instead\n",
      "\n",
      "See the caveats in the documentation: https://pandas.pydata.org/pandas-docs/stable/user_guide/indexing.html#returning-a-view-versus-a-copy\n",
      "  \"\"\"Entry point for launching an IPython kernel.\n"
     ]
    }
   ],
   "source": [
    "rfm['Recency']=rfm['Recency'].astype(int)\n",
    "rfm=rfm.set_index('Customer User Id')\n",
    "rfm.columns=['Frequency','Monetary','Recency']"
   ]
  },
  {
   "cell_type": "markdown",
   "metadata": {},
   "source": [
    "### Break Recency, Frequency and Monetary into quantiles\n",
    "### Assign scores from 1-4 for each criteria based on quantile"
   ]
  },
  {
   "cell_type": "code",
   "execution_count": 23,
   "metadata": {},
   "outputs": [],
   "source": [
    "quantiles = rfm.quantile(q=[0.25,0.5,0.75])"
   ]
  },
  {
   "cell_type": "code",
   "execution_count": 24,
   "metadata": {},
   "outputs": [],
   "source": [
    "RFM_Segment = rfm.copy()\n",
    "# Arguments (x = value, p = recency, monetary_value, frequency, k = quartiles dict)\n",
    "def R_Class(x,p,d):\n",
    "    if x <= d[p][0.25]:\n",
    "        return 4\n",
    "    elif x <= d[p][0.50]:\n",
    "        return 3\n",
    "    elif x <= d[p][0.75]: \n",
    "        return 2\n",
    "    else:\n",
    "        return 1\n",
    "    \n",
    "# Arguments (x = value, p = recency, monetary_value, frequency, k = quartiles dict)\n",
    "def FM_Class(x,p,d):\n",
    "    if x <= d[p][0.25]:\n",
    "        return 1\n",
    "    elif x <= d[p][0.50]:\n",
    "        return 2\n",
    "    elif x <= d[p][0.75]: \n",
    "        return 3\n",
    "    else:\n",
    "        return 4\n",
    "RFM_Segment['R_Quartile'] = RFM_Segment['Recency'].apply(R_Class, args=('Recency',quantiles,))\n",
    "RFM_Segment['F_Quartile'] = RFM_Segment['Frequency'].apply(FM_Class, args=('Frequency',quantiles,))\n",
    "RFM_Segment['M_Quartile'] = RFM_Segment['Monetary'].apply(FM_Class, args=('Monetary',quantiles,))\n",
    "RFM_Segment['RFMClass'] = RFM_Segment.R_Quartile.map(str) \\\n",
    "                            + RFM_Segment.F_Quartile.map(str) \\\n",
    "                            + RFM_Segment.M_Quartile.map(str)"
   ]
  },
  {
   "cell_type": "markdown",
   "metadata": {},
   "source": [
    "### Combine all three criterias and generate a total RFM score"
   ]
  },
  {
   "cell_type": "code",
   "execution_count": 25,
   "metadata": {},
   "outputs": [
    {
     "name": "stdout",
     "output_type": "stream",
     "text": [
      "Customer User Id\n",
      "2091    5\n",
      "2093    9\n",
      "2094    6\n",
      "2095    3\n",
      "2096    3\n",
      "Name: RFM_Score, dtype: int64\n"
     ]
    }
   ],
   "source": [
    "RFM_Segment['RFM_Score'] = RFM_Segment[['R_Quartile','F_Quartile','M_Quartile']].sum(axis=1)\n",
    "print(RFM_Segment['RFM_Score'].head())"
   ]
  },
  {
   "cell_type": "code",
   "execution_count": 26,
   "metadata": {},
   "outputs": [],
   "source": [
    "df1=df.merge(RFM_Segment,on='Customer User Id',how='left')"
   ]
  },
  {
   "cell_type": "code",
   "execution_count": 27,
   "metadata": {},
   "outputs": [
    {
     "data": {
      "text/html": [
       "<div>\n",
       "<style scoped>\n",
       "    .dataframe tbody tr th:only-of-type {\n",
       "        vertical-align: middle;\n",
       "    }\n",
       "\n",
       "    .dataframe tbody tr th {\n",
       "        vertical-align: top;\n",
       "    }\n",
       "\n",
       "    .dataframe thead th {\n",
       "        text-align: right;\n",
       "    }\n",
       "</style>\n",
       "<table border=\"1\" class=\"dataframe\">\n",
       "  <thead>\n",
       "    <tr style=\"text-align: right;\">\n",
       "      <th></th>\n",
       "      <th>Transaction Id</th>\n",
       "      <th>Reference Number</th>\n",
       "      <th>Receiving Status</th>\n",
       "      <th>Source Transaction</th>\n",
       "      <th>Date</th>\n",
       "      <th>Time</th>\n",
       "      <th>Status</th>\n",
       "      <th>Merchant Id</th>\n",
       "      <th>Merchant Name</th>\n",
       "      <th>Partner Id</th>\n",
       "      <th>...</th>\n",
       "      <th>MaxPurchaseDate</th>\n",
       "      <th>Recency_x</th>\n",
       "      <th>Frequency</th>\n",
       "      <th>Monetary</th>\n",
       "      <th>Recency_y</th>\n",
       "      <th>R_Quartile</th>\n",
       "      <th>F_Quartile</th>\n",
       "      <th>M_Quartile</th>\n",
       "      <th>RFMClass</th>\n",
       "      <th>RFM_Score</th>\n",
       "    </tr>\n",
       "  </thead>\n",
       "  <tbody>\n",
       "    <tr>\n",
       "      <th>0</th>\n",
       "      <td>1218</td>\n",
       "      <td>NaN</td>\n",
       "      <td>Not Set</td>\n",
       "      <td>-1</td>\n",
       "      <td>2019-08-30</td>\n",
       "      <td>14:04:33</td>\n",
       "      <td>Approved</td>\n",
       "      <td>1039</td>\n",
       "      <td>Releaf Herbal Cooperative, INC</td>\n",
       "      <td>1</td>\n",
       "      <td>...</td>\n",
       "      <td>2019-09-13</td>\n",
       "      <td>248.0</td>\n",
       "      <td>2</td>\n",
       "      <td>64.2720</td>\n",
       "      <td>248</td>\n",
       "      <td>1</td>\n",
       "      <td>3</td>\n",
       "      <td>1</td>\n",
       "      <td>131</td>\n",
       "      <td>5</td>\n",
       "    </tr>\n",
       "    <tr>\n",
       "      <th>1</th>\n",
       "      <td>1231</td>\n",
       "      <td>NaN</td>\n",
       "      <td>Not Set</td>\n",
       "      <td>-1</td>\n",
       "      <td>2019-08-30</td>\n",
       "      <td>17:17:10</td>\n",
       "      <td>Approved</td>\n",
       "      <td>1039</td>\n",
       "      <td>Releaf Herbal Cooperative, INC</td>\n",
       "      <td>1</td>\n",
       "      <td>...</td>\n",
       "      <td>2019-12-13</td>\n",
       "      <td>157.0</td>\n",
       "      <td>28</td>\n",
       "      <td>974.8992</td>\n",
       "      <td>157</td>\n",
       "      <td>1</td>\n",
       "      <td>4</td>\n",
       "      <td>4</td>\n",
       "      <td>144</td>\n",
       "      <td>9</td>\n",
       "    </tr>\n",
       "    <tr>\n",
       "      <th>2</th>\n",
       "      <td>1234</td>\n",
       "      <td>NaN</td>\n",
       "      <td>Not Set</td>\n",
       "      <td>-1</td>\n",
       "      <td>2019-08-30</td>\n",
       "      <td>18:32:57</td>\n",
       "      <td>Approved</td>\n",
       "      <td>1039</td>\n",
       "      <td>Releaf Herbal Cooperative, INC</td>\n",
       "      <td>1</td>\n",
       "      <td>...</td>\n",
       "      <td>2019-09-04</td>\n",
       "      <td>257.0</td>\n",
       "      <td>2</td>\n",
       "      <td>117.0624</td>\n",
       "      <td>257</td>\n",
       "      <td>1</td>\n",
       "      <td>3</td>\n",
       "      <td>2</td>\n",
       "      <td>132</td>\n",
       "      <td>6</td>\n",
       "    </tr>\n",
       "    <tr>\n",
       "      <th>3</th>\n",
       "      <td>1235</td>\n",
       "      <td>NaN</td>\n",
       "      <td>Not Set</td>\n",
       "      <td>-1</td>\n",
       "      <td>2019-08-30</td>\n",
       "      <td>19:01:53</td>\n",
       "      <td>Approved</td>\n",
       "      <td>1039</td>\n",
       "      <td>Releaf Herbal Cooperative, INC</td>\n",
       "      <td>1</td>\n",
       "      <td>...</td>\n",
       "      <td>2019-08-30</td>\n",
       "      <td>262.0</td>\n",
       "      <td>1</td>\n",
       "      <td>44.4864</td>\n",
       "      <td>262</td>\n",
       "      <td>1</td>\n",
       "      <td>1</td>\n",
       "      <td>1</td>\n",
       "      <td>111</td>\n",
       "      <td>3</td>\n",
       "    </tr>\n",
       "    <tr>\n",
       "      <th>4</th>\n",
       "      <td>1238</td>\n",
       "      <td>NaN</td>\n",
       "      <td>Not Set</td>\n",
       "      <td>-1</td>\n",
       "      <td>2019-08-30</td>\n",
       "      <td>20:24:16</td>\n",
       "      <td>Approved</td>\n",
       "      <td>1039</td>\n",
       "      <td>Releaf Herbal Cooperative, INC</td>\n",
       "      <td>1</td>\n",
       "      <td>...</td>\n",
       "      <td>2019-08-30</td>\n",
       "      <td>262.0</td>\n",
       "      <td>1</td>\n",
       "      <td>20.6688</td>\n",
       "      <td>262</td>\n",
       "      <td>1</td>\n",
       "      <td>1</td>\n",
       "      <td>1</td>\n",
       "      <td>111</td>\n",
       "      <td>3</td>\n",
       "    </tr>\n",
       "  </tbody>\n",
       "</table>\n",
       "<p>5 rows × 36 columns</p>\n",
       "</div>"
      ],
      "text/plain": [
       "   Transaction Id Reference Number Receiving Status  Source Transaction  \\\n",
       "0            1218              NaN          Not Set                  -1   \n",
       "1            1231              NaN          Not Set                  -1   \n",
       "2            1234              NaN          Not Set                  -1   \n",
       "3            1235              NaN          Not Set                  -1   \n",
       "4            1238              NaN          Not Set                  -1   \n",
       "\n",
       "        Date      Time    Status  Merchant Id                   Merchant Name  \\\n",
       "0 2019-08-30  14:04:33  Approved         1039  Releaf Herbal Cooperative, INC   \n",
       "1 2019-08-30  17:17:10  Approved         1039  Releaf Herbal Cooperative, INC   \n",
       "2 2019-08-30  18:32:57  Approved         1039  Releaf Herbal Cooperative, INC   \n",
       "3 2019-08-30  19:01:53  Approved         1039  Releaf Herbal Cooperative, INC   \n",
       "4 2019-08-30  20:24:16  Approved         1039  Releaf Herbal Cooperative, INC   \n",
       "\n",
       "   Partner Id  ... MaxPurchaseDate  Recency_x  Frequency  Monetary  Recency_y  \\\n",
       "0           1  ...      2019-09-13      248.0          2   64.2720        248   \n",
       "1           1  ...      2019-12-13      157.0         28  974.8992        157   \n",
       "2           1  ...      2019-09-04      257.0          2  117.0624        257   \n",
       "3           1  ...      2019-08-30      262.0          1   44.4864        262   \n",
       "4           1  ...      2019-08-30      262.0          1   20.6688        262   \n",
       "\n",
       "  R_Quartile F_Quartile  M_Quartile  RFMClass RFM_Score  \n",
       "0          1          3           1       131         5  \n",
       "1          1          4           4       144         9  \n",
       "2          1          3           2       132         6  \n",
       "3          1          1           1       111         3  \n",
       "4          1          1           1       111         3  \n",
       "\n",
       "[5 rows x 36 columns]"
      ]
     },
     "execution_count": 27,
     "metadata": {},
     "output_type": "execute_result"
    }
   ],
   "source": [
    "df1.head()"
   ]
  },
  {
   "cell_type": "code",
   "execution_count": 28,
   "metadata": {},
   "outputs": [
    {
     "data": {
      "text/plain": [
       "Index(['Transaction Id', 'Reference Number', 'Receiving Status',\n",
       "       'Source Transaction', 'Date', 'Time', 'Status', 'Merchant Id',\n",
       "       'Merchant Name', 'Partner Id', 'Partner Name',\n",
       "       'Total Amount (Including Tip)', 'Fees', 'Net Amount (Including Tip)',\n",
       "       'Tip Amount', 'Location', 'Point Of Sale', 'Clerk User Id',\n",
       "       'Clerk External Id', 'Clerk First Name', 'Clerk Last Name',\n",
       "       'Customer User Id', 'Customer Email Address', 'Customer Phone Number',\n",
       "       'Total_Transaction_count', 'Total_Transaction_amount',\n",
       "       'MaxPurchaseDate', 'Recency_x', 'Frequency', 'Monetary', 'Recency_y',\n",
       "       'R_Quartile', 'F_Quartile', 'M_Quartile', 'RFMClass', 'RFM_Score'],\n",
       "      dtype='object')"
      ]
     },
     "execution_count": 28,
     "metadata": {},
     "output_type": "execute_result"
    }
   ],
   "source": [
    "df1.columns"
   ]
  },
  {
   "cell_type": "code",
   "execution_count": 29,
   "metadata": {},
   "outputs": [],
   "source": [
    "df1.drop(['Status','Transaction Id', 'Reference Number', \n",
    "       'Source Transaction', 'Date', 'Time','Partner Id', 'Partner Name','Location', \n",
    "        'Point Of Sale', 'Clerk User Id',\n",
    "       'Clerk External Id', 'Clerk First Name', 'Clerk Last Name','MaxPurchaseDate', \n",
    "        'Recency_x', 'Frequency', 'Monetary', 'Recency_y',\n",
    "       'R_Quartile', 'F_Quartile', 'M_Quartile', 'RFMClass',\n",
    "        'Total Amount (Including Tip)', 'Fees', \n",
    "       'Tip Amount'],axis=1,inplace=True)"
   ]
  },
  {
   "cell_type": "code",
   "execution_count": 30,
   "metadata": {},
   "outputs": [
    {
     "data": {
      "text/html": [
       "<div>\n",
       "<style scoped>\n",
       "    .dataframe tbody tr th:only-of-type {\n",
       "        vertical-align: middle;\n",
       "    }\n",
       "\n",
       "    .dataframe tbody tr th {\n",
       "        vertical-align: top;\n",
       "    }\n",
       "\n",
       "    .dataframe thead th {\n",
       "        text-align: right;\n",
       "    }\n",
       "</style>\n",
       "<table border=\"1\" class=\"dataframe\">\n",
       "  <thead>\n",
       "    <tr style=\"text-align: right;\">\n",
       "      <th></th>\n",
       "      <th>Receiving Status</th>\n",
       "      <th>Merchant Id</th>\n",
       "      <th>Merchant Name</th>\n",
       "      <th>Net Amount (Including Tip)</th>\n",
       "      <th>Customer User Id</th>\n",
       "      <th>Customer Email Address</th>\n",
       "      <th>Customer Phone Number</th>\n",
       "      <th>Total_Transaction_count</th>\n",
       "      <th>Total_Transaction_amount</th>\n",
       "      <th>RFM_Score</th>\n",
       "    </tr>\n",
       "  </thead>\n",
       "  <tbody>\n",
       "    <tr>\n",
       "      <th>0</th>\n",
       "      <td>Not Set</td>\n",
       "      <td>1039</td>\n",
       "      <td>Releaf Herbal Cooperative, INC</td>\n",
       "      <td>29.5200</td>\n",
       "      <td>2091</td>\n",
       "      <td>keeyasedwards@gmail.com</td>\n",
       "      <td>4154109717</td>\n",
       "      <td>2</td>\n",
       "      <td>64.2720</td>\n",
       "      <td>5</td>\n",
       "    </tr>\n",
       "    <tr>\n",
       "      <th>1</th>\n",
       "      <td>Not Set</td>\n",
       "      <td>1039</td>\n",
       "      <td>Releaf Herbal Cooperative, INC</td>\n",
       "      <td>27.5904</td>\n",
       "      <td>2093</td>\n",
       "      <td>ludari89@gmail.com</td>\n",
       "      <td>4157163647</td>\n",
       "      <td>28</td>\n",
       "      <td>974.8992</td>\n",
       "      <td>9</td>\n",
       "    </tr>\n",
       "    <tr>\n",
       "      <th>2</th>\n",
       "      <td>Not Set</td>\n",
       "      <td>1039</td>\n",
       "      <td>Releaf Herbal Cooperative, INC</td>\n",
       "      <td>54.3168</td>\n",
       "      <td>2094</td>\n",
       "      <td>jpjocelynparra@gmail.com</td>\n",
       "      <td>4159966592</td>\n",
       "      <td>2</td>\n",
       "      <td>117.0624</td>\n",
       "      <td>6</td>\n",
       "    </tr>\n",
       "    <tr>\n",
       "      <th>3</th>\n",
       "      <td>Not Set</td>\n",
       "      <td>1039</td>\n",
       "      <td>Releaf Herbal Cooperative, INC</td>\n",
       "      <td>44.4864</td>\n",
       "      <td>2095</td>\n",
       "      <td>yasminmahmoudian23@gmail.com</td>\n",
       "      <td>6506192470</td>\n",
       "      <td>1</td>\n",
       "      <td>44.4864</td>\n",
       "      <td>3</td>\n",
       "    </tr>\n",
       "    <tr>\n",
       "      <th>4</th>\n",
       "      <td>Not Set</td>\n",
       "      <td>1039</td>\n",
       "      <td>Releaf Herbal Cooperative, INC</td>\n",
       "      <td>20.6688</td>\n",
       "      <td>2096</td>\n",
       "      <td>msomach45@gmail.com</td>\n",
       "      <td>8584426873</td>\n",
       "      <td>1</td>\n",
       "      <td>20.6688</td>\n",
       "      <td>3</td>\n",
       "    </tr>\n",
       "  </tbody>\n",
       "</table>\n",
       "</div>"
      ],
      "text/plain": [
       "  Receiving Status  Merchant Id                   Merchant Name  \\\n",
       "0          Not Set         1039  Releaf Herbal Cooperative, INC   \n",
       "1          Not Set         1039  Releaf Herbal Cooperative, INC   \n",
       "2          Not Set         1039  Releaf Herbal Cooperative, INC   \n",
       "3          Not Set         1039  Releaf Herbal Cooperative, INC   \n",
       "4          Not Set         1039  Releaf Herbal Cooperative, INC   \n",
       "\n",
       "   Net Amount (Including Tip)  Customer User Id        Customer Email Address  \\\n",
       "0                     29.5200              2091       keeyasedwards@gmail.com   \n",
       "1                     27.5904              2093            ludari89@gmail.com   \n",
       "2                     54.3168              2094      jpjocelynparra@gmail.com   \n",
       "3                     44.4864              2095  yasminmahmoudian23@gmail.com   \n",
       "4                     20.6688              2096           msomach45@gmail.com   \n",
       "\n",
       "   Customer Phone Number  Total_Transaction_count  Total_Transaction_amount  \\\n",
       "0             4154109717                        2                   64.2720   \n",
       "1             4157163647                       28                  974.8992   \n",
       "2             4159966592                        2                  117.0624   \n",
       "3             6506192470                        1                   44.4864   \n",
       "4             8584426873                        1                   20.6688   \n",
       "\n",
       "   RFM_Score  \n",
       "0          5  \n",
       "1          9  \n",
       "2          6  \n",
       "3          3  \n",
       "4          3  "
      ]
     },
     "execution_count": 30,
     "metadata": {},
     "output_type": "execute_result"
    }
   ],
   "source": [
    "df1.head()"
   ]
  },
  {
   "cell_type": "markdown",
   "metadata": {},
   "source": [
    "#### RFM Scores Range 3-5-7-9-12"
   ]
  },
  {
   "cell_type": "code",
   "execution_count": 31,
   "metadata": {},
   "outputs": [
    {
     "data": {
      "text/plain": [
       "count    3202.000000\n",
       "mean        7.033417\n",
       "std         2.733927\n",
       "min         3.000000\n",
       "25%         5.000000\n",
       "50%         7.000000\n",
       "75%         9.000000\n",
       "max        12.000000\n",
       "Name: RFM_Score, dtype: float64"
      ]
     },
     "execution_count": 31,
     "metadata": {},
     "output_type": "execute_result"
    }
   ],
   "source": [
    "df1['RFM_Score'].describe()"
   ]
  },
  {
   "cell_type": "markdown",
   "metadata": {},
   "source": [
    "## Rejected Transactions Analysis\n",
    "### Both rejected and pending-rerun transaction status are considered as \"rejected transaction\""
   ]
  },
  {
   "cell_type": "code",
   "execution_count": 32,
   "metadata": {},
   "outputs": [],
   "source": [
    "def func(x):\n",
    "    if x == 'Rejected':\n",
    "        return 1\n",
    "    elif x== 'PendingRerun':\n",
    "        return 1\n",
    "    else:\n",
    "        return 0\n",
    "    \n",
    "df1['Reject_History']=df1['Receiving Status'].apply(func)"
   ]
  },
  {
   "cell_type": "markdown",
   "metadata": {},
   "source": [
    "### Calculate number of rejected transactions per customer"
   ]
  },
  {
   "cell_type": "code",
   "execution_count": 33,
   "metadata": {},
   "outputs": [],
   "source": [
    "count_series = df1.groupby(['Reject_History','Customer Email Address']).size()\n",
    "new= count_series.to_frame(name='Reject_count').reset_index()\n",
    "new=new[new['Reject_History']==1]"
   ]
  },
  {
   "cell_type": "markdown",
   "metadata": {},
   "source": [
    "### Calculate dollar amount of rejected transactions per customer"
   ]
  },
  {
   "cell_type": "code",
   "execution_count": 34,
   "metadata": {},
   "outputs": [],
   "source": [
    "money_value = df1[['Customer Email Address','Net Amount (Including Tip)','Reject_History']]\n",
    "money_value = money_value[money_value['Reject_History']==1]\n",
    "money_value.drop(['Reject_History'],axis=1,inplace=True)"
   ]
  },
  {
   "cell_type": "code",
   "execution_count": 35,
   "metadata": {},
   "outputs": [],
   "source": [
    "money_value=money_value.groupby(['Customer Email Address']).sum()"
   ]
  },
  {
   "cell_type": "code",
   "execution_count": 36,
   "metadata": {},
   "outputs": [],
   "source": [
    "df1=df1.merge(new,on='Customer Email Address',how='left')"
   ]
  },
  {
   "cell_type": "code",
   "execution_count": 37,
   "metadata": {},
   "outputs": [],
   "source": [
    "df1=df1.merge(money_value,on='Customer Email Address',how='left')"
   ]
  },
  {
   "cell_type": "code",
   "execution_count": 38,
   "metadata": {},
   "outputs": [],
   "source": [
    "df1.drop(['Reject_History_x','Reject_History_y','Receiving Status'],axis=1,inplace=True)"
   ]
  },
  {
   "cell_type": "code",
   "execution_count": 39,
   "metadata": {},
   "outputs": [
    {
     "data": {
      "text/html": [
       "<div>\n",
       "<style scoped>\n",
       "    .dataframe tbody tr th:only-of-type {\n",
       "        vertical-align: middle;\n",
       "    }\n",
       "\n",
       "    .dataframe tbody tr th {\n",
       "        vertical-align: top;\n",
       "    }\n",
       "\n",
       "    .dataframe thead th {\n",
       "        text-align: right;\n",
       "    }\n",
       "</style>\n",
       "<table border=\"1\" class=\"dataframe\">\n",
       "  <thead>\n",
       "    <tr style=\"text-align: right;\">\n",
       "      <th></th>\n",
       "      <th>Merchant Id</th>\n",
       "      <th>Merchant Name</th>\n",
       "      <th>Net Amount (Including Tip)_x</th>\n",
       "      <th>Customer User Id</th>\n",
       "      <th>Customer Email Address</th>\n",
       "      <th>Customer Phone Number</th>\n",
       "      <th>Total_Transaction_count</th>\n",
       "      <th>Total_Transaction_amount</th>\n",
       "      <th>RFM_Score</th>\n",
       "      <th>Reject_count</th>\n",
       "      <th>Net Amount (Including Tip)_y</th>\n",
       "    </tr>\n",
       "  </thead>\n",
       "  <tbody>\n",
       "    <tr>\n",
       "      <th>0</th>\n",
       "      <td>1039</td>\n",
       "      <td>Releaf Herbal Cooperative, INC</td>\n",
       "      <td>29.5200</td>\n",
       "      <td>2091</td>\n",
       "      <td>keeyasedwards@gmail.com</td>\n",
       "      <td>4154109717</td>\n",
       "      <td>2</td>\n",
       "      <td>64.2720</td>\n",
       "      <td>5</td>\n",
       "      <td>NaN</td>\n",
       "      <td>NaN</td>\n",
       "    </tr>\n",
       "    <tr>\n",
       "      <th>1</th>\n",
       "      <td>1039</td>\n",
       "      <td>Releaf Herbal Cooperative, INC</td>\n",
       "      <td>27.5904</td>\n",
       "      <td>2093</td>\n",
       "      <td>ludari89@gmail.com</td>\n",
       "      <td>4157163647</td>\n",
       "      <td>28</td>\n",
       "      <td>974.8992</td>\n",
       "      <td>9</td>\n",
       "      <td>NaN</td>\n",
       "      <td>NaN</td>\n",
       "    </tr>\n",
       "    <tr>\n",
       "      <th>2</th>\n",
       "      <td>1039</td>\n",
       "      <td>Releaf Herbal Cooperative, INC</td>\n",
       "      <td>54.3168</td>\n",
       "      <td>2094</td>\n",
       "      <td>jpjocelynparra@gmail.com</td>\n",
       "      <td>4159966592</td>\n",
       "      <td>2</td>\n",
       "      <td>117.0624</td>\n",
       "      <td>6</td>\n",
       "      <td>NaN</td>\n",
       "      <td>NaN</td>\n",
       "    </tr>\n",
       "    <tr>\n",
       "      <th>3</th>\n",
       "      <td>1039</td>\n",
       "      <td>Releaf Herbal Cooperative, INC</td>\n",
       "      <td>44.4864</td>\n",
       "      <td>2095</td>\n",
       "      <td>yasminmahmoudian23@gmail.com</td>\n",
       "      <td>6506192470</td>\n",
       "      <td>1</td>\n",
       "      <td>44.4864</td>\n",
       "      <td>3</td>\n",
       "      <td>NaN</td>\n",
       "      <td>NaN</td>\n",
       "    </tr>\n",
       "    <tr>\n",
       "      <th>4</th>\n",
       "      <td>1039</td>\n",
       "      <td>Releaf Herbal Cooperative, INC</td>\n",
       "      <td>20.6688</td>\n",
       "      <td>2096</td>\n",
       "      <td>msomach45@gmail.com</td>\n",
       "      <td>8584426873</td>\n",
       "      <td>1</td>\n",
       "      <td>20.6688</td>\n",
       "      <td>3</td>\n",
       "      <td>NaN</td>\n",
       "      <td>NaN</td>\n",
       "    </tr>\n",
       "  </tbody>\n",
       "</table>\n",
       "</div>"
      ],
      "text/plain": [
       "   Merchant Id                   Merchant Name  Net Amount (Including Tip)_x  \\\n",
       "0         1039  Releaf Herbal Cooperative, INC                       29.5200   \n",
       "1         1039  Releaf Herbal Cooperative, INC                       27.5904   \n",
       "2         1039  Releaf Herbal Cooperative, INC                       54.3168   \n",
       "3         1039  Releaf Herbal Cooperative, INC                       44.4864   \n",
       "4         1039  Releaf Herbal Cooperative, INC                       20.6688   \n",
       "\n",
       "   Customer User Id        Customer Email Address  Customer Phone Number  \\\n",
       "0              2091       keeyasedwards@gmail.com             4154109717   \n",
       "1              2093            ludari89@gmail.com             4157163647   \n",
       "2              2094      jpjocelynparra@gmail.com             4159966592   \n",
       "3              2095  yasminmahmoudian23@gmail.com             6506192470   \n",
       "4              2096           msomach45@gmail.com             8584426873   \n",
       "\n",
       "   Total_Transaction_count  Total_Transaction_amount  RFM_Score  Reject_count  \\\n",
       "0                        2                   64.2720          5           NaN   \n",
       "1                       28                  974.8992          9           NaN   \n",
       "2                        2                  117.0624          6           NaN   \n",
       "3                        1                   44.4864          3           NaN   \n",
       "4                        1                   20.6688          3           NaN   \n",
       "\n",
       "   Net Amount (Including Tip)_y  \n",
       "0                           NaN  \n",
       "1                           NaN  \n",
       "2                           NaN  \n",
       "3                           NaN  \n",
       "4                           NaN  "
      ]
     },
     "execution_count": 39,
     "metadata": {},
     "output_type": "execute_result"
    }
   ],
   "source": [
    "df1.head()"
   ]
  },
  {
   "cell_type": "code",
   "execution_count": 40,
   "metadata": {},
   "outputs": [
    {
     "data": {
      "text/plain": [
       "Index(['Merchant Id', 'Merchant Name', 'Net Amount (Including Tip)_x',\n",
       "       'Customer User Id', 'Customer Email Address', 'Customer Phone Number',\n",
       "       'Total_Transaction_count', 'Total_Transaction_amount', 'RFM_Score',\n",
       "       'Reject_count', 'Net Amount (Including Tip)_y'],\n",
       "      dtype='object')"
      ]
     },
     "execution_count": 40,
     "metadata": {},
     "output_type": "execute_result"
    }
   ],
   "source": [
    "df1.columns"
   ]
  },
  {
   "cell_type": "code",
   "execution_count": 41,
   "metadata": {},
   "outputs": [],
   "source": [
    "df1=df1.fillna(0)\n",
    "df1 = df1.drop_duplicates(subset='Customer Email Address', keep=\"first\")\n",
    "df1['Reject_count']=df1['Reject_count'].astype(int)\n",
    "df1['Customer User Id']=df1['Customer User Id'].astype(int)"
   ]
  },
  {
   "cell_type": "markdown",
   "metadata": {},
   "source": [
    "### Calculate the percentage of amount of rejected transaction versus the total amount of transaction"
   ]
  },
  {
   "cell_type": "code",
   "execution_count": 42,
   "metadata": {},
   "outputs": [],
   "source": [
    "df1['Failed_count%'] = df1['Reject_count']/df1['Total_Transaction_count']"
   ]
  },
  {
   "cell_type": "markdown",
   "metadata": {},
   "source": [
    "### Calculate the percentage of dollar volume of rejected transaction versus the total spendings"
   ]
  },
  {
   "cell_type": "code",
   "execution_count": 43,
   "metadata": {},
   "outputs": [],
   "source": [
    "df1['Failed_amount%'] = df1['Net Amount (Including Tip)_y']/df1['Total_Transaction_amount']"
   ]
  },
  {
   "cell_type": "code",
   "execution_count": 44,
   "metadata": {},
   "outputs": [
    {
     "data": {
      "text/html": [
       "<div>\n",
       "<style scoped>\n",
       "    .dataframe tbody tr th:only-of-type {\n",
       "        vertical-align: middle;\n",
       "    }\n",
       "\n",
       "    .dataframe tbody tr th {\n",
       "        vertical-align: top;\n",
       "    }\n",
       "\n",
       "    .dataframe thead th {\n",
       "        text-align: right;\n",
       "    }\n",
       "</style>\n",
       "<table border=\"1\" class=\"dataframe\">\n",
       "  <thead>\n",
       "    <tr style=\"text-align: right;\">\n",
       "      <th></th>\n",
       "      <th>Merchant Id</th>\n",
       "      <th>Merchant Name</th>\n",
       "      <th>Net Amount (Including Tip)_x</th>\n",
       "      <th>Customer User Id</th>\n",
       "      <th>Customer Email Address</th>\n",
       "      <th>Customer Phone Number</th>\n",
       "      <th>Total_Transaction_count</th>\n",
       "      <th>Total_Transaction_amount</th>\n",
       "      <th>RFM_Score</th>\n",
       "      <th>Reject_count</th>\n",
       "      <th>Net Amount (Including Tip)_y</th>\n",
       "      <th>Failed_count%</th>\n",
       "      <th>Failed_amount%</th>\n",
       "    </tr>\n",
       "  </thead>\n",
       "  <tbody>\n",
       "    <tr>\n",
       "      <th>0</th>\n",
       "      <td>1039</td>\n",
       "      <td>Releaf Herbal Cooperative, INC</td>\n",
       "      <td>29.5200</td>\n",
       "      <td>2091</td>\n",
       "      <td>keeyasedwards@gmail.com</td>\n",
       "      <td>4154109717</td>\n",
       "      <td>2</td>\n",
       "      <td>64.2720</td>\n",
       "      <td>5</td>\n",
       "      <td>0</td>\n",
       "      <td>0.0</td>\n",
       "      <td>0.0</td>\n",
       "      <td>0.0</td>\n",
       "    </tr>\n",
       "    <tr>\n",
       "      <th>1</th>\n",
       "      <td>1039</td>\n",
       "      <td>Releaf Herbal Cooperative, INC</td>\n",
       "      <td>27.5904</td>\n",
       "      <td>2093</td>\n",
       "      <td>ludari89@gmail.com</td>\n",
       "      <td>4157163647</td>\n",
       "      <td>28</td>\n",
       "      <td>974.8992</td>\n",
       "      <td>9</td>\n",
       "      <td>0</td>\n",
       "      <td>0.0</td>\n",
       "      <td>0.0</td>\n",
       "      <td>0.0</td>\n",
       "    </tr>\n",
       "    <tr>\n",
       "      <th>2</th>\n",
       "      <td>1039</td>\n",
       "      <td>Releaf Herbal Cooperative, INC</td>\n",
       "      <td>54.3168</td>\n",
       "      <td>2094</td>\n",
       "      <td>jpjocelynparra@gmail.com</td>\n",
       "      <td>4159966592</td>\n",
       "      <td>2</td>\n",
       "      <td>117.0624</td>\n",
       "      <td>6</td>\n",
       "      <td>0</td>\n",
       "      <td>0.0</td>\n",
       "      <td>0.0</td>\n",
       "      <td>0.0</td>\n",
       "    </tr>\n",
       "    <tr>\n",
       "      <th>3</th>\n",
       "      <td>1039</td>\n",
       "      <td>Releaf Herbal Cooperative, INC</td>\n",
       "      <td>44.4864</td>\n",
       "      <td>2095</td>\n",
       "      <td>yasminmahmoudian23@gmail.com</td>\n",
       "      <td>6506192470</td>\n",
       "      <td>1</td>\n",
       "      <td>44.4864</td>\n",
       "      <td>3</td>\n",
       "      <td>0</td>\n",
       "      <td>0.0</td>\n",
       "      <td>0.0</td>\n",
       "      <td>0.0</td>\n",
       "    </tr>\n",
       "    <tr>\n",
       "      <th>4</th>\n",
       "      <td>1039</td>\n",
       "      <td>Releaf Herbal Cooperative, INC</td>\n",
       "      <td>20.6688</td>\n",
       "      <td>2096</td>\n",
       "      <td>msomach45@gmail.com</td>\n",
       "      <td>8584426873</td>\n",
       "      <td>1</td>\n",
       "      <td>20.6688</td>\n",
       "      <td>3</td>\n",
       "      <td>0</td>\n",
       "      <td>0.0</td>\n",
       "      <td>0.0</td>\n",
       "      <td>0.0</td>\n",
       "    </tr>\n",
       "  </tbody>\n",
       "</table>\n",
       "</div>"
      ],
      "text/plain": [
       "   Merchant Id                   Merchant Name  Net Amount (Including Tip)_x  \\\n",
       "0         1039  Releaf Herbal Cooperative, INC                       29.5200   \n",
       "1         1039  Releaf Herbal Cooperative, INC                       27.5904   \n",
       "2         1039  Releaf Herbal Cooperative, INC                       54.3168   \n",
       "3         1039  Releaf Herbal Cooperative, INC                       44.4864   \n",
       "4         1039  Releaf Herbal Cooperative, INC                       20.6688   \n",
       "\n",
       "   Customer User Id        Customer Email Address  Customer Phone Number  \\\n",
       "0              2091       keeyasedwards@gmail.com             4154109717   \n",
       "1              2093            ludari89@gmail.com             4157163647   \n",
       "2              2094      jpjocelynparra@gmail.com             4159966592   \n",
       "3              2095  yasminmahmoudian23@gmail.com             6506192470   \n",
       "4              2096           msomach45@gmail.com             8584426873   \n",
       "\n",
       "   Total_Transaction_count  Total_Transaction_amount  RFM_Score  Reject_count  \\\n",
       "0                        2                   64.2720          5             0   \n",
       "1                       28                  974.8992          9             0   \n",
       "2                        2                  117.0624          6             0   \n",
       "3                        1                   44.4864          3             0   \n",
       "4                        1                   20.6688          3             0   \n",
       "\n",
       "   Net Amount (Including Tip)_y  Failed_count%  Failed_amount%  \n",
       "0                           0.0            0.0             0.0  \n",
       "1                           0.0            0.0             0.0  \n",
       "2                           0.0            0.0             0.0  \n",
       "3                           0.0            0.0             0.0  \n",
       "4                           0.0            0.0             0.0  "
      ]
     },
     "execution_count": 44,
     "metadata": {},
     "output_type": "execute_result"
    }
   ],
   "source": [
    "df1.head()"
   ]
  },
  {
   "cell_type": "code",
   "execution_count": 45,
   "metadata": {},
   "outputs": [
    {
     "data": {
      "text/plain": [
       "Index(['Merchant Id', 'Merchant Name', 'Net Amount (Including Tip)_x',\n",
       "       'Customer User Id', 'Customer Email Address', 'Customer Phone Number',\n",
       "       'Total_Transaction_count', 'Total_Transaction_amount', 'RFM_Score',\n",
       "       'Reject_count', 'Net Amount (Including Tip)_y', 'Failed_count%',\n",
       "       'Failed_amount%'],\n",
       "      dtype='object')"
      ]
     },
     "execution_count": 45,
     "metadata": {},
     "output_type": "execute_result"
    }
   ],
   "source": [
    "df1.columns"
   ]
  },
  {
   "cell_type": "code",
   "execution_count": 46,
   "metadata": {},
   "outputs": [],
   "source": [
    "df1.columns=['Merchant Id', 'Merchant Name', 'Net Amount (Including Tip)_x',\n",
    "       'Customer User Id', 'Customer Email Address', 'Customer Phone Number',\n",
    "       'Total_Transaction_count', 'Total_Transaction_amount', 'RFM_Score',\n",
    "       'Reject_count', 'Reject_moneyvalue','Failed_count%',\n",
    "       'Failed_amount%']"
   ]
  },
  {
   "cell_type": "code",
   "execution_count": 47,
   "metadata": {},
   "outputs": [],
   "source": [
    "df1=df1.drop(['Net Amount (Including Tip)_x'],axis=1)"
   ]
  },
  {
   "cell_type": "code",
   "execution_count": 48,
   "metadata": {},
   "outputs": [],
   "source": [
    "df1=df1.drop(['Merchant Id'],axis=1)"
   ]
  },
  {
   "cell_type": "code",
   "execution_count": 49,
   "metadata": {},
   "outputs": [
    {
     "data": {
      "text/html": [
       "<div>\n",
       "<style scoped>\n",
       "    .dataframe tbody tr th:only-of-type {\n",
       "        vertical-align: middle;\n",
       "    }\n",
       "\n",
       "    .dataframe tbody tr th {\n",
       "        vertical-align: top;\n",
       "    }\n",
       "\n",
       "    .dataframe thead th {\n",
       "        text-align: right;\n",
       "    }\n",
       "</style>\n",
       "<table border=\"1\" class=\"dataframe\">\n",
       "  <thead>\n",
       "    <tr style=\"text-align: right;\">\n",
       "      <th></th>\n",
       "      <th>Merchant Name</th>\n",
       "      <th>Customer User Id</th>\n",
       "      <th>Customer Email Address</th>\n",
       "      <th>Customer Phone Number</th>\n",
       "      <th>Total_Transaction_count</th>\n",
       "      <th>Total_Transaction_amount</th>\n",
       "      <th>RFM_Score</th>\n",
       "      <th>Reject_count</th>\n",
       "      <th>Reject_moneyvalue</th>\n",
       "      <th>Failed_count%</th>\n",
       "      <th>Failed_amount%</th>\n",
       "    </tr>\n",
       "  </thead>\n",
       "  <tbody>\n",
       "    <tr>\n",
       "      <th>0</th>\n",
       "      <td>Releaf Herbal Cooperative, INC</td>\n",
       "      <td>2091</td>\n",
       "      <td>keeyasedwards@gmail.com</td>\n",
       "      <td>4154109717</td>\n",
       "      <td>2</td>\n",
       "      <td>64.2720</td>\n",
       "      <td>5</td>\n",
       "      <td>0</td>\n",
       "      <td>0.0</td>\n",
       "      <td>0.0</td>\n",
       "      <td>0.0</td>\n",
       "    </tr>\n",
       "    <tr>\n",
       "      <th>1</th>\n",
       "      <td>Releaf Herbal Cooperative, INC</td>\n",
       "      <td>2093</td>\n",
       "      <td>ludari89@gmail.com</td>\n",
       "      <td>4157163647</td>\n",
       "      <td>28</td>\n",
       "      <td>974.8992</td>\n",
       "      <td>9</td>\n",
       "      <td>0</td>\n",
       "      <td>0.0</td>\n",
       "      <td>0.0</td>\n",
       "      <td>0.0</td>\n",
       "    </tr>\n",
       "    <tr>\n",
       "      <th>2</th>\n",
       "      <td>Releaf Herbal Cooperative, INC</td>\n",
       "      <td>2094</td>\n",
       "      <td>jpjocelynparra@gmail.com</td>\n",
       "      <td>4159966592</td>\n",
       "      <td>2</td>\n",
       "      <td>117.0624</td>\n",
       "      <td>6</td>\n",
       "      <td>0</td>\n",
       "      <td>0.0</td>\n",
       "      <td>0.0</td>\n",
       "      <td>0.0</td>\n",
       "    </tr>\n",
       "    <tr>\n",
       "      <th>3</th>\n",
       "      <td>Releaf Herbal Cooperative, INC</td>\n",
       "      <td>2095</td>\n",
       "      <td>yasminmahmoudian23@gmail.com</td>\n",
       "      <td>6506192470</td>\n",
       "      <td>1</td>\n",
       "      <td>44.4864</td>\n",
       "      <td>3</td>\n",
       "      <td>0</td>\n",
       "      <td>0.0</td>\n",
       "      <td>0.0</td>\n",
       "      <td>0.0</td>\n",
       "    </tr>\n",
       "    <tr>\n",
       "      <th>4</th>\n",
       "      <td>Releaf Herbal Cooperative, INC</td>\n",
       "      <td>2096</td>\n",
       "      <td>msomach45@gmail.com</td>\n",
       "      <td>8584426873</td>\n",
       "      <td>1</td>\n",
       "      <td>20.6688</td>\n",
       "      <td>3</td>\n",
       "      <td>0</td>\n",
       "      <td>0.0</td>\n",
       "      <td>0.0</td>\n",
       "      <td>0.0</td>\n",
       "    </tr>\n",
       "  </tbody>\n",
       "</table>\n",
       "</div>"
      ],
      "text/plain": [
       "                    Merchant Name  Customer User Id  \\\n",
       "0  Releaf Herbal Cooperative, INC              2091   \n",
       "1  Releaf Herbal Cooperative, INC              2093   \n",
       "2  Releaf Herbal Cooperative, INC              2094   \n",
       "3  Releaf Herbal Cooperative, INC              2095   \n",
       "4  Releaf Herbal Cooperative, INC              2096   \n",
       "\n",
       "         Customer Email Address  Customer Phone Number  \\\n",
       "0       keeyasedwards@gmail.com             4154109717   \n",
       "1            ludari89@gmail.com             4157163647   \n",
       "2      jpjocelynparra@gmail.com             4159966592   \n",
       "3  yasminmahmoudian23@gmail.com             6506192470   \n",
       "4           msomach45@gmail.com             8584426873   \n",
       "\n",
       "   Total_Transaction_count  Total_Transaction_amount  RFM_Score  Reject_count  \\\n",
       "0                        2                   64.2720          5             0   \n",
       "1                       28                  974.8992          9             0   \n",
       "2                        2                  117.0624          6             0   \n",
       "3                        1                   44.4864          3             0   \n",
       "4                        1                   20.6688          3             0   \n",
       "\n",
       "   Reject_moneyvalue  Failed_count%  Failed_amount%  \n",
       "0                0.0            0.0             0.0  \n",
       "1                0.0            0.0             0.0  \n",
       "2                0.0            0.0             0.0  \n",
       "3                0.0            0.0             0.0  \n",
       "4                0.0            0.0             0.0  "
      ]
     },
     "execution_count": 49,
     "metadata": {},
     "output_type": "execute_result"
    }
   ],
   "source": [
    "df1.head()"
   ]
  },
  {
   "cell_type": "code",
   "execution_count": 51,
   "metadata": {},
   "outputs": [
    {
     "data": {
      "text/plain": [
       "(3200, 11)"
      ]
     },
     "execution_count": 51,
     "metadata": {},
     "output_type": "execute_result"
    }
   ],
   "source": [
    "df1.shape"
   ]
  },
  {
   "cell_type": "code",
   "execution_count": 50,
   "metadata": {},
   "outputs": [
    {
     "data": {
      "text/html": [
       "<div>\n",
       "<style scoped>\n",
       "    .dataframe tbody tr th:only-of-type {\n",
       "        vertical-align: middle;\n",
       "    }\n",
       "\n",
       "    .dataframe tbody tr th {\n",
       "        vertical-align: top;\n",
       "    }\n",
       "\n",
       "    .dataframe thead th {\n",
       "        text-align: right;\n",
       "    }\n",
       "</style>\n",
       "<table border=\"1\" class=\"dataframe\">\n",
       "  <thead>\n",
       "    <tr style=\"text-align: right;\">\n",
       "      <th></th>\n",
       "      <th>Merchant Name</th>\n",
       "      <th>Customer User Id</th>\n",
       "      <th>Customer Email Address</th>\n",
       "      <th>Customer Phone Number</th>\n",
       "      <th>Total_Transaction_count</th>\n",
       "      <th>Total_Transaction_amount</th>\n",
       "      <th>RFM_Score</th>\n",
       "      <th>Reject_count</th>\n",
       "      <th>Reject_moneyvalue</th>\n",
       "      <th>Failed_count%</th>\n",
       "      <th>Failed_amount%</th>\n",
       "    </tr>\n",
       "  </thead>\n",
       "  <tbody>\n",
       "    <tr>\n",
       "      <th>136</th>\n",
       "      <td>Universal Herbal Center, Inc d/b/a Pineapple E...</td>\n",
       "      <td>2516</td>\n",
       "      <td>twilliams62@live.com</td>\n",
       "      <td>6618749883</td>\n",
       "      <td>1</td>\n",
       "      <td>112.7043</td>\n",
       "      <td>4</td>\n",
       "      <td>1</td>\n",
       "      <td>112.7043</td>\n",
       "      <td>1.000000</td>\n",
       "      <td>1.000000</td>\n",
       "    </tr>\n",
       "    <tr>\n",
       "      <th>182</th>\n",
       "      <td>GoldLeaf Group</td>\n",
       "      <td>2634</td>\n",
       "      <td>jesus.sanchez101@yahoo.com</td>\n",
       "      <td>8187362564</td>\n",
       "      <td>3</td>\n",
       "      <td>214.4352</td>\n",
       "      <td>8</td>\n",
       "      <td>1</td>\n",
       "      <td>55.4784</td>\n",
       "      <td>0.333333</td>\n",
       "      <td>0.258719</td>\n",
       "    </tr>\n",
       "    <tr>\n",
       "      <th>261</th>\n",
       "      <td>GoldLeaf Group</td>\n",
       "      <td>2797</td>\n",
       "      <td>askworl@yahoo.com</td>\n",
       "      <td>5598040087</td>\n",
       "      <td>1</td>\n",
       "      <td>114.0384</td>\n",
       "      <td>4</td>\n",
       "      <td>1</td>\n",
       "      <td>114.0384</td>\n",
       "      <td>1.000000</td>\n",
       "      <td>1.000000</td>\n",
       "    </tr>\n",
       "    <tr>\n",
       "      <th>359</th>\n",
       "      <td>GoldLeaf Group</td>\n",
       "      <td>3028</td>\n",
       "      <td>amberbush622@yahoo.com</td>\n",
       "      <td>5595936505</td>\n",
       "      <td>1</td>\n",
       "      <td>128.1504</td>\n",
       "      <td>5</td>\n",
       "      <td>1</td>\n",
       "      <td>128.1504</td>\n",
       "      <td>1.000000</td>\n",
       "      <td>1.000000</td>\n",
       "    </tr>\n",
       "    <tr>\n",
       "      <th>361</th>\n",
       "      <td>GoldLeaf Group</td>\n",
       "      <td>3043</td>\n",
       "      <td>curtisford61@yahoo.com</td>\n",
       "      <td>5594993102</td>\n",
       "      <td>1</td>\n",
       "      <td>58.3584</td>\n",
       "      <td>3</td>\n",
       "      <td>1</td>\n",
       "      <td>58.3584</td>\n",
       "      <td>1.000000</td>\n",
       "      <td>1.000000</td>\n",
       "    </tr>\n",
       "    <tr>\n",
       "      <th>...</th>\n",
       "      <td>...</td>\n",
       "      <td>...</td>\n",
       "      <td>...</td>\n",
       "      <td>...</td>\n",
       "      <td>...</td>\n",
       "      <td>...</td>\n",
       "      <td>...</td>\n",
       "      <td>...</td>\n",
       "      <td>...</td>\n",
       "      <td>...</td>\n",
       "      <td>...</td>\n",
       "    </tr>\n",
       "    <tr>\n",
       "      <th>2696</th>\n",
       "      <td>Earth's Healing North</td>\n",
       "      <td>13726</td>\n",
       "      <td>valdezbaby730@gmail.com</td>\n",
       "      <td>5204200221</td>\n",
       "      <td>1</td>\n",
       "      <td>129.6231</td>\n",
       "      <td>7</td>\n",
       "      <td>1</td>\n",
       "      <td>129.6231</td>\n",
       "      <td>1.000000</td>\n",
       "      <td>1.000000</td>\n",
       "    </tr>\n",
       "    <tr>\n",
       "      <th>2698</th>\n",
       "      <td>Earth's Healing North</td>\n",
       "      <td>9821</td>\n",
       "      <td>jumjadi@gmail.com</td>\n",
       "      <td>5209904769</td>\n",
       "      <td>1</td>\n",
       "      <td>110.4115</td>\n",
       "      <td>6</td>\n",
       "      <td>1</td>\n",
       "      <td>110.4115</td>\n",
       "      <td>1.000000</td>\n",
       "      <td>1.000000</td>\n",
       "    </tr>\n",
       "    <tr>\n",
       "      <th>2704</th>\n",
       "      <td>Earths Healing South</td>\n",
       "      <td>13695</td>\n",
       "      <td>fixithamilton@icloud.com</td>\n",
       "      <td>5204220157</td>\n",
       "      <td>1</td>\n",
       "      <td>91.2095</td>\n",
       "      <td>6</td>\n",
       "      <td>1</td>\n",
       "      <td>91.2095</td>\n",
       "      <td>1.000000</td>\n",
       "      <td>1.000000</td>\n",
       "    </tr>\n",
       "    <tr>\n",
       "      <th>2745</th>\n",
       "      <td>Earth's Healing North</td>\n",
       "      <td>4874</td>\n",
       "      <td>marcovp08@gmail.com</td>\n",
       "      <td>5202714103</td>\n",
       "      <td>1</td>\n",
       "      <td>72.9676</td>\n",
       "      <td>6</td>\n",
       "      <td>1</td>\n",
       "      <td>72.9676</td>\n",
       "      <td>1.000000</td>\n",
       "      <td>1.000000</td>\n",
       "    </tr>\n",
       "    <tr>\n",
       "      <th>2757</th>\n",
       "      <td>Earths Healing South</td>\n",
       "      <td>13745</td>\n",
       "      <td>tonyramirez339@gmail.com</td>\n",
       "      <td>5202755175</td>\n",
       "      <td>1</td>\n",
       "      <td>139.2241</td>\n",
       "      <td>7</td>\n",
       "      <td>1</td>\n",
       "      <td>139.2241</td>\n",
       "      <td>1.000000</td>\n",
       "      <td>1.000000</td>\n",
       "    </tr>\n",
       "  </tbody>\n",
       "</table>\n",
       "<p>61 rows × 11 columns</p>\n",
       "</div>"
      ],
      "text/plain": [
       "                                          Merchant Name  Customer User Id  \\\n",
       "136   Universal Herbal Center, Inc d/b/a Pineapple E...              2516   \n",
       "182                                      GoldLeaf Group              2634   \n",
       "261                                      GoldLeaf Group              2797   \n",
       "359                                      GoldLeaf Group              3028   \n",
       "361                                      GoldLeaf Group              3043   \n",
       "...                                                 ...               ...   \n",
       "2696                              Earth's Healing North             13726   \n",
       "2698                              Earth's Healing North              9821   \n",
       "2704                               Earths Healing South             13695   \n",
       "2745                              Earth's Healing North              4874   \n",
       "2757                               Earths Healing South             13745   \n",
       "\n",
       "          Customer Email Address  Customer Phone Number  \\\n",
       "136         twilliams62@live.com             6618749883   \n",
       "182   jesus.sanchez101@yahoo.com             8187362564   \n",
       "261            askworl@yahoo.com             5598040087   \n",
       "359       amberbush622@yahoo.com             5595936505   \n",
       "361       curtisford61@yahoo.com             5594993102   \n",
       "...                          ...                    ...   \n",
       "2696     valdezbaby730@gmail.com             5204200221   \n",
       "2698           jumjadi@gmail.com             5209904769   \n",
       "2704    fixithamilton@icloud.com             5204220157   \n",
       "2745         marcovp08@gmail.com             5202714103   \n",
       "2757    tonyramirez339@gmail.com             5202755175   \n",
       "\n",
       "      Total_Transaction_count  Total_Transaction_amount  RFM_Score  \\\n",
       "136                         1                  112.7043          4   \n",
       "182                         3                  214.4352          8   \n",
       "261                         1                  114.0384          4   \n",
       "359                         1                  128.1504          5   \n",
       "361                         1                   58.3584          3   \n",
       "...                       ...                       ...        ...   \n",
       "2696                        1                  129.6231          7   \n",
       "2698                        1                  110.4115          6   \n",
       "2704                        1                   91.2095          6   \n",
       "2745                        1                   72.9676          6   \n",
       "2757                        1                  139.2241          7   \n",
       "\n",
       "      Reject_count  Reject_moneyvalue  Failed_count%  Failed_amount%  \n",
       "136              1           112.7043       1.000000        1.000000  \n",
       "182              1            55.4784       0.333333        0.258719  \n",
       "261              1           114.0384       1.000000        1.000000  \n",
       "359              1           128.1504       1.000000        1.000000  \n",
       "361              1            58.3584       1.000000        1.000000  \n",
       "...            ...                ...            ...             ...  \n",
       "2696             1           129.6231       1.000000        1.000000  \n",
       "2698             1           110.4115       1.000000        1.000000  \n",
       "2704             1            91.2095       1.000000        1.000000  \n",
       "2745             1            72.9676       1.000000        1.000000  \n",
       "2757             1           139.2241       1.000000        1.000000  \n",
       "\n",
       "[61 rows x 11 columns]"
      ]
     },
     "execution_count": 50,
     "metadata": {},
     "output_type": "execute_result"
    }
   ],
   "source": [
    "df1[df1['Reject_count']>0]"
   ]
  },
  {
   "cell_type": "code",
   "execution_count": null,
   "metadata": {},
   "outputs": [],
   "source": []
  }
 ],
 "metadata": {
  "kernelspec": {
   "display_name": "Python 3",
   "language": "python",
   "name": "python3"
  },
  "language_info": {
   "codemirror_mode": {
    "name": "ipython",
    "version": 3
   },
   "file_extension": ".py",
   "mimetype": "text/x-python",
   "name": "python",
   "nbconvert_exporter": "python",
   "pygments_lexer": "ipython3",
   "version": "3.7.6"
  }
 },
 "nbformat": 4,
 "nbformat_minor": 4
}
